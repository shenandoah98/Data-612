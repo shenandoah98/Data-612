{
 "cells": [
  {
   "cell_type": "code",
   "execution_count": 1,
   "metadata": {},
   "outputs": [],
   "source": [
    "# Load the dataset \n",
    "import pandas as pd\n",
    "data_2010 = pd.read_csv('https://raw.githubusercontent.com/frankData612/data_612/master/State_Drug_Utilization_Data_2010/State_Drug_Utilization_Data_2010.csv', sep=',')"
   ]
  },
  {
   "cell_type": "code",
   "execution_count": 2,
   "metadata": {},
   "outputs": [],
   "source": [
    "# Load the 2019 dataset\n",
    "data_2019 = pd.read_csv('State_Drug_Utilization_Data_2019.csv')"
   ]
  },
  {
   "cell_type": "code",
   "execution_count": 3,
   "metadata": {},
   "outputs": [
    {
     "data": {
      "text/plain": [
       "Index(['Unnamed: 0', 'Utilization Type', 'State', 'Labeler Code',\n",
       "       'Product Code', 'Package Size', 'Year', 'Quarter', 'Product Name',\n",
       "       'Units Reimbursed', 'Suppression Used', 'Number of Prescriptions',\n",
       "       'Total Amount Reimbursed', 'Medicaid Amount Reimbursed',\n",
       "       'Non Medicaid Amount Reimbursed', 'Quarter Begin', 'Quarter Begin Date',\n",
       "       'Latitude', 'Longitude', 'Location', 'NDC'],\n",
       "      dtype='object')"
      ]
     },
     "execution_count": 3,
     "metadata": {},
     "output_type": "execute_result"
    }
   ],
   "source": [
    "# Look at the columns in the 2010 data\n",
    "data_2010.columns"
   ]
  },
  {
   "cell_type": "code",
   "execution_count": 4,
   "metadata": {
    "scrolled": true
   },
   "outputs": [
    {
     "data": {
      "text/html": [
       "<div>\n",
       "<style scoped>\n",
       "    .dataframe tbody tr th:only-of-type {\n",
       "        vertical-align: middle;\n",
       "    }\n",
       "\n",
       "    .dataframe tbody tr th {\n",
       "        vertical-align: top;\n",
       "    }\n",
       "\n",
       "    .dataframe thead th {\n",
       "        text-align: right;\n",
       "    }\n",
       "</style>\n",
       "<table border=\"1\" class=\"dataframe\">\n",
       "  <thead>\n",
       "    <tr style=\"text-align: right;\">\n",
       "      <th></th>\n",
       "      <th>Unnamed: 0</th>\n",
       "      <th>Utilization Type</th>\n",
       "      <th>State</th>\n",
       "      <th>Labeler Code</th>\n",
       "      <th>Product Code</th>\n",
       "      <th>Package Size</th>\n",
       "      <th>Year</th>\n",
       "      <th>Quarter</th>\n",
       "      <th>Product Name</th>\n",
       "      <th>Units Reimbursed</th>\n",
       "      <th>...</th>\n",
       "      <th>Number of Prescriptions</th>\n",
       "      <th>Total Amount Reimbursed</th>\n",
       "      <th>Medicaid Amount Reimbursed</th>\n",
       "      <th>Non Medicaid Amount Reimbursed</th>\n",
       "      <th>Quarter Begin</th>\n",
       "      <th>Quarter Begin Date</th>\n",
       "      <th>Latitude</th>\n",
       "      <th>Longitude</th>\n",
       "      <th>Location</th>\n",
       "      <th>NDC</th>\n",
       "    </tr>\n",
       "  </thead>\n",
       "  <tbody>\n",
       "    <tr>\n",
       "      <th>0</th>\n",
       "      <td>128037</td>\n",
       "      <td>MCOU</td>\n",
       "      <td>MA</td>\n",
       "      <td>37205</td>\n",
       "      <td>137</td>\n",
       "      <td>5</td>\n",
       "      <td>2010</td>\n",
       "      <td>4</td>\n",
       "      <td>ARTIFICIAL</td>\n",
       "      <td>15.000</td>\n",
       "      <td>...</td>\n",
       "      <td>1</td>\n",
       "      <td>4.08</td>\n",
       "      <td>4.08</td>\n",
       "      <td>0.0</td>\n",
       "      <td>10/1</td>\n",
       "      <td>10/01/2010</td>\n",
       "      <td>31.1801</td>\n",
       "      <td>-91.8749</td>\n",
       "      <td>(31.1801, -91.8749)</td>\n",
       "      <td>37205013705</td>\n",
       "    </tr>\n",
       "    <tr>\n",
       "      <th>1</th>\n",
       "      <td>491755</td>\n",
       "      <td>FFSU</td>\n",
       "      <td>FL</td>\n",
       "      <td>62756</td>\n",
       "      <td>763</td>\n",
       "      <td>88</td>\n",
       "      <td>2010</td>\n",
       "      <td>1</td>\n",
       "      <td>TORSEMIDE</td>\n",
       "      <td>255.000</td>\n",
       "      <td>...</td>\n",
       "      <td>8</td>\n",
       "      <td>103.33</td>\n",
       "      <td>103.33</td>\n",
       "      <td>0.0</td>\n",
       "      <td>1/1</td>\n",
       "      <td>01/01/2010</td>\n",
       "      <td>39.3498</td>\n",
       "      <td>-75.5148</td>\n",
       "      <td>(39.3498, -75.5148)</td>\n",
       "      <td>62756076388</td>\n",
       "    </tr>\n",
       "    <tr>\n",
       "      <th>2</th>\n",
       "      <td>2568076</td>\n",
       "      <td>FFSU</td>\n",
       "      <td>UT</td>\n",
       "      <td>46987</td>\n",
       "      <td>323</td>\n",
       "      <td>11</td>\n",
       "      <td>2010</td>\n",
       "      <td>2</td>\n",
       "      <td>Kadian Ora</td>\n",
       "      <td>120.000</td>\n",
       "      <td>...</td>\n",
       "      <td>2</td>\n",
       "      <td>905.24</td>\n",
       "      <td>905.24</td>\n",
       "      <td>0.0</td>\n",
       "      <td>4/1</td>\n",
       "      <td>04/01/2010</td>\n",
       "      <td>44.2853</td>\n",
       "      <td>-99.4632</td>\n",
       "      <td>(44.2853, -99.4632)</td>\n",
       "      <td>46987032311</td>\n",
       "    </tr>\n",
       "    <tr>\n",
       "      <th>3</th>\n",
       "      <td>491263</td>\n",
       "      <td>FFSU</td>\n",
       "      <td>MN</td>\n",
       "      <td>781</td>\n",
       "      <td>5185</td>\n",
       "      <td>1</td>\n",
       "      <td>2010</td>\n",
       "      <td>4</td>\n",
       "      <td>LEVOTHYROX</td>\n",
       "      <td>1114.000</td>\n",
       "      <td>...</td>\n",
       "      <td>34</td>\n",
       "      <td>312.22</td>\n",
       "      <td>306.22</td>\n",
       "      <td>6.0</td>\n",
       "      <td>10/1</td>\n",
       "      <td>10/01/2010</td>\n",
       "      <td>43.3504</td>\n",
       "      <td>-84.5603</td>\n",
       "      <td>(43.3504, -84.5603)</td>\n",
       "      <td>781518501</td>\n",
       "    </tr>\n",
       "    <tr>\n",
       "      <th>4</th>\n",
       "      <td>836489</td>\n",
       "      <td>FFSU</td>\n",
       "      <td>XX</td>\n",
       "      <td>51552</td>\n",
       "      <td>809</td>\n",
       "      <td>6</td>\n",
       "      <td>2010</td>\n",
       "      <td>2</td>\n",
       "      <td>COLD CREAM</td>\n",
       "      <td>226.089</td>\n",
       "      <td>...</td>\n",
       "      <td>7</td>\n",
       "      <td>52.87</td>\n",
       "      <td>52.87</td>\n",
       "      <td>0.0</td>\n",
       "      <td>4/1</td>\n",
       "      <td>04/01/2010</td>\n",
       "      <td>NaN</td>\n",
       "      <td>NaN</td>\n",
       "      <td>NaN</td>\n",
       "      <td>51552080906</td>\n",
       "    </tr>\n",
       "  </tbody>\n",
       "</table>\n",
       "<p>5 rows × 21 columns</p>\n",
       "</div>"
      ],
      "text/plain": [
       "   Unnamed: 0 Utilization Type State  Labeler Code  Product Code  \\\n",
       "0      128037             MCOU    MA         37205           137   \n",
       "1      491755             FFSU    FL         62756           763   \n",
       "2     2568076             FFSU    UT         46987           323   \n",
       "3      491263             FFSU    MN           781          5185   \n",
       "4      836489             FFSU    XX         51552           809   \n",
       "\n",
       "   Package Size  Year  Quarter Product Name  Units Reimbursed  ...  \\\n",
       "0             5  2010        4   ARTIFICIAL            15.000  ...   \n",
       "1            88  2010        1    TORSEMIDE           255.000  ...   \n",
       "2            11  2010        2   Kadian Ora           120.000  ...   \n",
       "3             1  2010        4   LEVOTHYROX          1114.000  ...   \n",
       "4             6  2010        2   COLD CREAM           226.089  ...   \n",
       "\n",
       "   Number of Prescriptions  Total Amount Reimbursed  \\\n",
       "0                        1                     4.08   \n",
       "1                        8                   103.33   \n",
       "2                        2                   905.24   \n",
       "3                       34                   312.22   \n",
       "4                        7                    52.87   \n",
       "\n",
       "   Medicaid Amount Reimbursed  Non Medicaid Amount Reimbursed  Quarter Begin  \\\n",
       "0                        4.08                             0.0           10/1   \n",
       "1                      103.33                             0.0            1/1   \n",
       "2                      905.24                             0.0            4/1   \n",
       "3                      306.22                             6.0           10/1   \n",
       "4                       52.87                             0.0            4/1   \n",
       "\n",
       "  Quarter Begin Date Latitude  Longitude             Location          NDC  \n",
       "0         10/01/2010  31.1801   -91.8749  (31.1801, -91.8749)  37205013705  \n",
       "1         01/01/2010  39.3498   -75.5148  (39.3498, -75.5148)  62756076388  \n",
       "2         04/01/2010  44.2853   -99.4632  (44.2853, -99.4632)  46987032311  \n",
       "3         10/01/2010  43.3504   -84.5603  (43.3504, -84.5603)    781518501  \n",
       "4         04/01/2010      NaN        NaN                  NaN  51552080906  \n",
       "\n",
       "[5 rows x 21 columns]"
      ]
     },
     "execution_count": 4,
     "metadata": {},
     "output_type": "execute_result"
    }
   ],
   "source": [
    "# Look at the first 5 rows of the 2010 dataset\n",
    "data_2010.head(5)"
   ]
  },
  {
   "cell_type": "code",
   "execution_count": 5,
   "metadata": {},
   "outputs": [
    {
     "data": {
      "text/plain": [
       "Index(['Utilization Type', 'State', 'Labeler Code', 'Product Code',\n",
       "       'Package Size', 'Year', 'Quarter', 'Product Name', 'Suppression Used',\n",
       "       'Units Reimbursed', 'Number of Prescriptions',\n",
       "       'Total Amount Reimbursed', 'Medicaid Amount Reimbursed',\n",
       "       'Non Medicaid Amount Reimbursed', 'Quarter Begin', 'Quarter Begin Date',\n",
       "       'Latitude', 'Longitude', 'Location', 'NDC'],\n",
       "      dtype='object')"
      ]
     },
     "execution_count": 5,
     "metadata": {},
     "output_type": "execute_result"
    }
   ],
   "source": [
    "# Look at the columns in the 2019 data\n",
    "data_2019.columns"
   ]
  },
  {
   "cell_type": "code",
   "execution_count": 6,
   "metadata": {},
   "outputs": [
    {
     "data": {
      "text/html": [
       "<div>\n",
       "<style scoped>\n",
       "    .dataframe tbody tr th:only-of-type {\n",
       "        vertical-align: middle;\n",
       "    }\n",
       "\n",
       "    .dataframe tbody tr th {\n",
       "        vertical-align: top;\n",
       "    }\n",
       "\n",
       "    .dataframe thead th {\n",
       "        text-align: right;\n",
       "    }\n",
       "</style>\n",
       "<table border=\"1\" class=\"dataframe\">\n",
       "  <thead>\n",
       "    <tr style=\"text-align: right;\">\n",
       "      <th></th>\n",
       "      <th>Utilization Type</th>\n",
       "      <th>State</th>\n",
       "      <th>Labeler Code</th>\n",
       "      <th>Product Code</th>\n",
       "      <th>Package Size</th>\n",
       "      <th>Year</th>\n",
       "      <th>Quarter</th>\n",
       "      <th>Product Name</th>\n",
       "      <th>Suppression Used</th>\n",
       "      <th>Units Reimbursed</th>\n",
       "      <th>Number of Prescriptions</th>\n",
       "      <th>Total Amount Reimbursed</th>\n",
       "      <th>Medicaid Amount Reimbursed</th>\n",
       "      <th>Non Medicaid Amount Reimbursed</th>\n",
       "      <th>Quarter Begin</th>\n",
       "      <th>Quarter Begin Date</th>\n",
       "      <th>Latitude</th>\n",
       "      <th>Longitude</th>\n",
       "      <th>Location</th>\n",
       "      <th>NDC</th>\n",
       "    </tr>\n",
       "  </thead>\n",
       "  <tbody>\n",
       "    <tr>\n",
       "      <th>0</th>\n",
       "      <td>FFSU</td>\n",
       "      <td>OK</td>\n",
       "      <td>597</td>\n",
       "      <td>140</td>\n",
       "      <td>90</td>\n",
       "      <td>2019</td>\n",
       "      <td>2</td>\n",
       "      <td>Tradjenta</td>\n",
       "      <td>False</td>\n",
       "      <td>1,290</td>\n",
       "      <td>44</td>\n",
       "      <td>18,486.68</td>\n",
       "      <td>18,392.18</td>\n",
       "      <td>94.5</td>\n",
       "      <td>4/1</td>\n",
       "      <td>04/01/2019</td>\n",
       "      <td>42.1497</td>\n",
       "      <td>-74.9384</td>\n",
       "      <td>POINT (-74.9384 42.1497)</td>\n",
       "      <td>597014090</td>\n",
       "    </tr>\n",
       "    <tr>\n",
       "      <th>1</th>\n",
       "      <td>FFSU</td>\n",
       "      <td>AK</td>\n",
       "      <td>51672</td>\n",
       "      <td>4037</td>\n",
       "      <td>3</td>\n",
       "      <td>2019</td>\n",
       "      <td>4</td>\n",
       "      <td>ENALAPRIL</td>\n",
       "      <td>True</td>\n",
       "      <td>NaN</td>\n",
       "      <td>NaN</td>\n",
       "      <td>NaN</td>\n",
       "      <td>NaN</td>\n",
       "      <td>NaN</td>\n",
       "      <td>10/1</td>\n",
       "      <td>10/01/2019</td>\n",
       "      <td>61.3850</td>\n",
       "      <td>-152.2683</td>\n",
       "      <td>POINT (-152.2683 61.385)</td>\n",
       "      <td>51672403703</td>\n",
       "    </tr>\n",
       "    <tr>\n",
       "      <th>2</th>\n",
       "      <td>MCOU</td>\n",
       "      <td>UT</td>\n",
       "      <td>56</td>\n",
       "      <td>172</td>\n",
       "      <td>70</td>\n",
       "      <td>2019</td>\n",
       "      <td>1</td>\n",
       "      <td>COUMADIN</td>\n",
       "      <td>True</td>\n",
       "      <td>NaN</td>\n",
       "      <td>NaN</td>\n",
       "      <td>NaN</td>\n",
       "      <td>NaN</td>\n",
       "      <td>NaN</td>\n",
       "      <td>1/1</td>\n",
       "      <td>01/01/2019</td>\n",
       "      <td>44.2853</td>\n",
       "      <td>-99.4632</td>\n",
       "      <td>POINT (-99.4632 44.2853)</td>\n",
       "      <td>56017270</td>\n",
       "    </tr>\n",
       "    <tr>\n",
       "      <th>3</th>\n",
       "      <td>FFSU</td>\n",
       "      <td>IL</td>\n",
       "      <td>69097</td>\n",
       "      <td>817</td>\n",
       "      <td>3</td>\n",
       "      <td>2019</td>\n",
       "      <td>2</td>\n",
       "      <td>TOPIRAMATE</td>\n",
       "      <td>True</td>\n",
       "      <td>NaN</td>\n",
       "      <td>NaN</td>\n",
       "      <td>NaN</td>\n",
       "      <td>NaN</td>\n",
       "      <td>NaN</td>\n",
       "      <td>4/1</td>\n",
       "      <td>04/01/2019</td>\n",
       "      <td>44.2394</td>\n",
       "      <td>-114.5103</td>\n",
       "      <td>POINT (-114.5103 44.2394)</td>\n",
       "      <td>69097081703</td>\n",
       "    </tr>\n",
       "    <tr>\n",
       "      <th>4</th>\n",
       "      <td>FFSU</td>\n",
       "      <td>SD</td>\n",
       "      <td>832</td>\n",
       "      <td>580</td>\n",
       "      <td>11</td>\n",
       "      <td>2019</td>\n",
       "      <td>1</td>\n",
       "      <td>CLOBAZAM 1</td>\n",
       "      <td>True</td>\n",
       "      <td>NaN</td>\n",
       "      <td>NaN</td>\n",
       "      <td>NaN</td>\n",
       "      <td>NaN</td>\n",
       "      <td>NaN</td>\n",
       "      <td>1/1</td>\n",
       "      <td>01/01/2019</td>\n",
       "      <td>18.2766</td>\n",
       "      <td>-66.3350</td>\n",
       "      <td>POINT (-66.335 18.2766)</td>\n",
       "      <td>832058011</td>\n",
       "    </tr>\n",
       "  </tbody>\n",
       "</table>\n",
       "</div>"
      ],
      "text/plain": [
       "  Utilization Type State  Labeler Code  Product Code  Package Size  Year  \\\n",
       "0             FFSU    OK           597           140            90  2019   \n",
       "1             FFSU    AK         51672          4037             3  2019   \n",
       "2             MCOU    UT            56           172            70  2019   \n",
       "3             FFSU    IL         69097           817             3  2019   \n",
       "4             FFSU    SD           832           580            11  2019   \n",
       "\n",
       "   Quarter Product Name  Suppression Used Units Reimbursed  \\\n",
       "0        2    Tradjenta             False            1,290   \n",
       "1        4    ENALAPRIL              True              NaN   \n",
       "2        1     COUMADIN              True              NaN   \n",
       "3        2   TOPIRAMATE              True              NaN   \n",
       "4        1   CLOBAZAM 1              True              NaN   \n",
       "\n",
       "  Number of Prescriptions Total Amount Reimbursed Medicaid Amount Reimbursed  \\\n",
       "0                      44               18,486.68                  18,392.18   \n",
       "1                     NaN                     NaN                        NaN   \n",
       "2                     NaN                     NaN                        NaN   \n",
       "3                     NaN                     NaN                        NaN   \n",
       "4                     NaN                     NaN                        NaN   \n",
       "\n",
       "  Non Medicaid Amount Reimbursed Quarter Begin Quarter Begin Date  Latitude  \\\n",
       "0                           94.5           4/1         04/01/2019   42.1497   \n",
       "1                            NaN          10/1         10/01/2019   61.3850   \n",
       "2                            NaN           1/1         01/01/2019   44.2853   \n",
       "3                            NaN           4/1         04/01/2019   44.2394   \n",
       "4                            NaN           1/1         01/01/2019   18.2766   \n",
       "\n",
       "   Longitude                   Location          NDC  \n",
       "0   -74.9384   POINT (-74.9384 42.1497)    597014090  \n",
       "1  -152.2683   POINT (-152.2683 61.385)  51672403703  \n",
       "2   -99.4632   POINT (-99.4632 44.2853)     56017270  \n",
       "3  -114.5103  POINT (-114.5103 44.2394)  69097081703  \n",
       "4   -66.3350    POINT (-66.335 18.2766)    832058011  "
      ]
     },
     "execution_count": 6,
     "metadata": {},
     "output_type": "execute_result"
    }
   ],
   "source": [
    "# Look at the first 5 rows of the 2019 dataset\n",
    "data_2019.head(5)"
   ]
  },
  {
   "cell_type": "code",
   "execution_count": 7,
   "metadata": {},
   "outputs": [
    {
     "data": {
      "text/plain": [
       "Index(['Utilization Type', 'State', 'Labeler Code', 'Product Code',\n",
       "       'Package Size', 'Year', 'Quarter', 'Product Name', 'Units Reimbursed',\n",
       "       'Suppression Used', 'Number of Prescriptions',\n",
       "       'Total Amount Reimbursed', 'Medicaid Amount Reimbursed',\n",
       "       'Non Medicaid Amount Reimbursed', 'Quarter Begin', 'Quarter Begin Date',\n",
       "       'Latitude', 'Longitude', 'Location', 'NDC'],\n",
       "      dtype='object')"
      ]
     },
     "execution_count": 7,
     "metadata": {},
     "output_type": "execute_result"
    }
   ],
   "source": [
    "# Concatenate the two datasets using an inner join so that only the columns on both datasets are combined\n",
    "combined = pd.concat([data_2010,data_2019], join='inner', ignore_index=True)\n",
    "combined.columns"
   ]
  },
  {
   "cell_type": "code",
   "execution_count": 8,
   "metadata": {},
   "outputs": [
    {
     "data": {
      "text/plain": [
       "(5032781, 20)"
      ]
     },
     "execution_count": 8,
     "metadata": {},
     "output_type": "execute_result"
    }
   ],
   "source": [
    "# Look at the total number of rows and columns for the combined data\n",
    "combined.shape"
   ]
  },
  {
   "cell_type": "code",
   "execution_count": 9,
   "metadata": {},
   "outputs": [],
   "source": [
    "import numpy as np\n",
    "# Import the numpy missing values\n",
    "from numpy import NaN, NAN, nan"
   ]
  },
  {
   "cell_type": "code",
   "execution_count": 10,
   "metadata": {},
   "outputs": [
    {
     "data": {
      "text/plain": [
       "(156220, 21)"
      ]
     },
     "execution_count": 10,
     "metadata": {},
     "output_type": "execute_result"
    }
   ],
   "source": [
    "# Look at the total number of rows and columns for the 2010 data\n",
    "data_2010.shape"
   ]
  },
  {
   "cell_type": "code",
   "execution_count": 11,
   "metadata": {},
   "outputs": [
    {
     "data": {
      "text/plain": [
       "Unnamed: 0                            0\n",
       "Utilization Type                      0\n",
       "State                                 0\n",
       "Labeler Code                          0\n",
       "Product Code                          0\n",
       "Package Size                          0\n",
       "Year                                  0\n",
       "Quarter                               0\n",
       "Product Name                         54\n",
       "Units Reimbursed                      0\n",
       "Suppression Used                      0\n",
       "Number of Prescriptions               0\n",
       "Total Amount Reimbursed               0\n",
       "Medicaid Amount Reimbursed            0\n",
       "Non Medicaid Amount Reimbursed        0\n",
       "Quarter Begin                         0\n",
       "Quarter Begin Date                    0\n",
       "Latitude                          10804\n",
       "Longitude                         10804\n",
       "Location                          10804\n",
       "NDC                                   0\n",
       "dtype: int64"
      ]
     },
     "execution_count": 11,
     "metadata": {},
     "output_type": "execute_result"
    }
   ],
   "source": [
    "# Count the missing values in the 2010 dataset\n",
    "data_2010.isnull().sum()"
   ]
  },
  {
   "cell_type": "code",
   "execution_count": 12,
   "metadata": {},
   "outputs": [
    {
     "data": {
      "text/plain": [
       "(4876561, 20)"
      ]
     },
     "execution_count": 12,
     "metadata": {},
     "output_type": "execute_result"
    }
   ],
   "source": [
    "# Look at the total number of rows and columns for the 2019 data\n",
    "data_2019.shape"
   ]
  },
  {
   "cell_type": "code",
   "execution_count": 13,
   "metadata": {},
   "outputs": [
    {
     "data": {
      "text/plain": [
       "Utilization Type                        0\n",
       "State                                   0\n",
       "Labeler Code                            0\n",
       "Product Code                            0\n",
       "Package Size                            0\n",
       "Year                                    0\n",
       "Quarter                                 0\n",
       "Product Name                          175\n",
       "Suppression Used                        0\n",
       "Units Reimbursed                  2602515\n",
       "Number of Prescriptions           2602515\n",
       "Total Amount Reimbursed           2602515\n",
       "Medicaid Amount Reimbursed        2602515\n",
       "Non Medicaid Amount Reimbursed    2602515\n",
       "Quarter Begin                           0\n",
       "Quarter Begin Date                      0\n",
       "Latitude                           293700\n",
       "Longitude                          293700\n",
       "Location                           293700\n",
       "NDC                                     0\n",
       "dtype: int64"
      ]
     },
     "execution_count": 13,
     "metadata": {},
     "output_type": "execute_result"
    }
   ],
   "source": [
    "# Count the missing values in the 2019 dataset\n",
    "data_2019.isnull().sum()"
   ]
  },
  {
   "cell_type": "code",
   "execution_count": 14,
   "metadata": {},
   "outputs": [
    {
     "data": {
      "text/plain": [
       "Utilization Type                        0\n",
       "State                                   0\n",
       "Labeler Code                            0\n",
       "Product Code                            0\n",
       "Package Size                            0\n",
       "Year                                    0\n",
       "Quarter                                 0\n",
       "Product Name                          229\n",
       "Units Reimbursed                  2602515\n",
       "Suppression Used                        0\n",
       "Number of Prescriptions           2602515\n",
       "Total Amount Reimbursed           2602515\n",
       "Medicaid Amount Reimbursed        2602515\n",
       "Non Medicaid Amount Reimbursed    2602515\n",
       "Quarter Begin                           0\n",
       "Quarter Begin Date                      0\n",
       "Latitude                           304504\n",
       "Longitude                          304504\n",
       "Location                           304504\n",
       "NDC                                     0\n",
       "dtype: int64"
      ]
     },
     "execution_count": 14,
     "metadata": {},
     "output_type": "execute_result"
    }
   ],
   "source": [
    "# Count the missing values in the combined dataset\n",
    "combined.isnull().sum()"
   ]
  },
  {
   "cell_type": "code",
   "execution_count": 15,
   "metadata": {},
   "outputs": [
    {
     "name": "stdout",
     "output_type": "stream",
     "text": [
      "(2198250, 20)\n"
     ]
    }
   ],
   "source": [
    "# Look at the total number of rows and columns for the combined data after the missing data has been removed\n",
    "combined_cleaned = combined.dropna()\n",
    "print(combined_cleaned.shape)"
   ]
  },
  {
   "cell_type": "code",
   "execution_count": 16,
   "metadata": {},
   "outputs": [
    {
     "data": {
      "text/plain": [
       "Utilization Type                  0\n",
       "State                             0\n",
       "Labeler Code                      0\n",
       "Product Code                      0\n",
       "Package Size                      0\n",
       "Year                              0\n",
       "Quarter                           0\n",
       "Product Name                      0\n",
       "Units Reimbursed                  0\n",
       "Suppression Used                  0\n",
       "Number of Prescriptions           0\n",
       "Total Amount Reimbursed           0\n",
       "Medicaid Amount Reimbursed        0\n",
       "Non Medicaid Amount Reimbursed    0\n",
       "Quarter Begin                     0\n",
       "Quarter Begin Date                0\n",
       "Latitude                          0\n",
       "Longitude                         0\n",
       "Location                          0\n",
       "NDC                               0\n",
       "dtype: int64"
      ]
     },
     "execution_count": 16,
     "metadata": {},
     "output_type": "execute_result"
    }
   ],
   "source": [
    "combined_cleaned.isnull().sum()"
   ]
  }
 ],
 "metadata": {
  "kernelspec": {
   "display_name": "Python 3",
   "language": "python",
   "name": "python3"
  },
  "language_info": {
   "codemirror_mode": {
    "name": "ipython",
    "version": 3
   },
   "file_extension": ".py",
   "mimetype": "text/x-python",
   "name": "python",
   "nbconvert_exporter": "python",
   "pygments_lexer": "ipython3",
   "version": "3.8.3"
  }
 },
 "nbformat": 4,
 "nbformat_minor": 4
}
